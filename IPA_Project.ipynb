{
 "cells": [
  {
   "cell_type": "code",
   "execution_count": null,
   "id": "0e6a52f7-18ea-488f-8253-7a88e67b4179",
   "metadata": {},
   "outputs": [],
   "source": [
    "#imports\n",
    "import pandas as pd\n",
    "import matplotlib.pyplot as plt\n",
    "import folium\n",
    "from folium.plugins import HeatMap,HeatMapWithTime\n",
    "import matplotlib.dates as mdates"
   ]
  },
  {
   "cell_type": "code",
   "execution_count": null,
   "id": "0b8b0e0c-c5cd-45fb-a0f6-f720517b2ce1",
   "metadata": {},
   "outputs": [],
   "source": [
    "data = pd.read_excel('202504-deceleration.xlsx')\n",
    "data = data.reset_index(drop=True)\n",
    "data['Date'] = pd.to_datetime(data['Date']).dt.date\n",
    "pd.set_option('display.max_rows', 10)\n",
    "data.style"
   ]
  },
  {
   "cell_type": "code",
   "execution_count": null,
   "id": "2e503854-c2a0-4fb9-a0ae-4c1ea63520da",
   "metadata": {},
   "outputs": [],
   "source": [
    "# First define some useful variables\n",
    "treshold_dec = data['Deceleration'].median()\n",
    "min_dec = data['Deceleration'].min()\n",
    "max_dec = data['Deceleration'].max()\n",
    "print(treshold_dec)\n",
    "print(min_dec)\n",
    "print(max_dec)\n",
    "\n",
    "map_center = [34.547494239393636, 135.4963598625541] # Goryoyama Park\n",
    "sw = data[['Latitude', 'Longitude']].min().values.tolist()\n",
    "ne = data[['Latitude', 'Longitude']].max().values.tolist()"
   ]
  },
  {
   "cell_type": "code",
   "execution_count": null,
   "id": "cc349858-fd33-4222-86eb-481797b4e5ec",
   "metadata": {},
   "outputs": [],
   "source": [
    "# Compare heatmaps of Weekdays and Holidays\n",
    "subdata1 = data[['Latitude','Longitude','Weekday/Holiday']]\n",
    "subdata1_week = subdata1[subdata1['Weekday/Holiday']=='Weekday'].drop('Weekday/Holiday', axis=1)\n",
    "subdata1_holi = subdata1[subdata1['Weekday/Holiday']=='Holiday'].drop('Weekday/Holiday', axis=1)\n",
    "\n",
    "week_map = folium.Map(location=map_center,tiles='openstreetmap',zoomSnap=0.5)\n",
    "HeatMap(subdata1_week,radius=14).add_to(week_map)\n",
    "week_map.fit_bounds([sw,ne])\n",
    "week_map"
   ]
  },
  {
   "cell_type": "code",
   "execution_count": null,
   "id": "215b39b0-81c2-42d8-b8dd-0491e7b18dd9",
   "metadata": {},
   "outputs": [],
   "source": [
    "holi_map = folium.Map(location=map_center,tiles='openstreetmap',zoomSnap=0.5)\n",
    "HeatMap(subdata1_holi,radius=14).add_to(holi_map)\n",
    "holi_map.fit_bounds([sw,ne])\n",
    "holi_map"
   ]
  },
  {
   "cell_type": "code",
   "execution_count": null,
   "id": "0526e7c4-8ab4-46a0-a2b1-9a0f5ae8611e",
   "metadata": {},
   "outputs": [],
   "source": [
    "# Let's study the decelaration distribution by weekday/holiday\n",
    "\n",
    "# Convert the deceleration value into cotegories\n",
    "bins = [0.25,0.3,0.4,1]\n",
    "impacts_name = ['Risk 0.2+','Risk 0.3+','Risk 0.4+']\n",
    "data['Deceleration Category'] = pd.cut(data['Deceleration'],bins=bins,labels=impacts_name,right=False)\n",
    "\n",
    "\n",
    "subdata2 = data[['Weekday/Holiday','Deceleration','Deceleration Category']]\n",
    "subdata2 = subdata2.groupby(['Weekday/Holiday','Deceleration Category'],observed=True).count()\n",
    "subdata2 = subdata2.unstack(level=0)\n",
    "subdata2"
   ]
  },
  {
   "cell_type": "code",
   "execution_count": null,
   "id": "335405cf-bcc3-4285-a5be-a58800a3d7d7",
   "metadata": {},
   "outputs": [],
   "source": [
    "subdata2.plot(kind='pie',subplots=True,autopct='%1.1f%%',figsize=(12,5))\n",
    "plt.suptitle('Deceleration distribution on weekdays and holidays')\n",
    "plt.legend(loc='upper right')"
   ]
  },
  {
   "cell_type": "code",
   "execution_count": null,
   "id": "b7da3895-dcc1-46f4-847a-fc8de1d8c1c6",
   "metadata": {},
   "outputs": [],
   "source": [
    "# Now let's make heatmaps according to the period of the day\n",
    "# Convert the deceleration value into cotegories\n",
    "time_bins = pd.to_datetime(['00:00:00','06:00:00','12:00:00','18:00:00','23:59:59'], format='%H:%M:%S').time\n",
    "period_labels = ['Night','Morning','Afternoon','Evening']\n",
    "data['Day Period'] = pd.cut(data['Time'],bins=time_bins,labels=period_labels,right=False)\n",
    "\n",
    "subdata3 = data[['Latitude','Longitude','Day Period']]\n",
    "night_data3 = subdata3[subdata3['Day Period'] == 'Night'].drop('Day Period',axis=1)\n",
    "morn_data3 = subdata3[subdata3['Day Period'] == 'Morning'].drop('Day Period',axis=1)\n",
    "aftn_data3 = subdata3[subdata3['Day Period'] == 'Afternoon'].drop('Day Period',axis=1)\n",
    "even_data3 = subdata3[subdata3['Day Period'] == 'Evening'].drop('Day Period',axis=1)"
   ]
  },
  {
   "cell_type": "code",
   "execution_count": null,
   "id": "9e7ee5bb-5785-425a-8fe2-9eebda9eac8a",
   "metadata": {},
   "outputs": [],
   "source": [
    "night_map = folium.Map(location=map_center,tiles='openstreetmap',zoomSnap=0.5)\n",
    "HeatMap(night_data3,radius=14).add_to(night_map)\n",
    "night_map.fit_bounds([sw,ne])\n",
    "night_map"
   ]
  },
  {
   "cell_type": "code",
   "execution_count": null,
   "id": "1edad0c3-4bd3-4eda-a7aa-d1e27e7de6bc",
   "metadata": {},
   "outputs": [],
   "source": [
    "morn_map = folium.Map(location=map_center,tiles='openstreetmap',zoomSnap=0.5)\n",
    "HeatMap(morn_data3,radius=14).add_to(morn_map)\n",
    "morn_map.fit_bounds([sw,ne])\n",
    "morn_map"
   ]
  },
  {
   "cell_type": "code",
   "execution_count": null,
   "id": "90fed64c-76c2-48f0-94c0-53f0e44299f7",
   "metadata": {},
   "outputs": [],
   "source": [
    "aftn_map = folium.Map(location=map_center,tiles='openstreetmap',zoomSnap=0.5)\n",
    "HeatMap(aftn_data3,radius=14).add_to(aftn_map)\n",
    "aftn_map.fit_bounds([sw,ne])\n",
    "aftn_map"
   ]
  },
  {
   "cell_type": "code",
   "execution_count": null,
   "id": "33451e29-c4e6-46b7-abbc-0dbc678d6155",
   "metadata": {},
   "outputs": [],
   "source": [
    "even_map = folium.Map(location=map_center,tiles='openstreetmap',zoomSnap=0.5)\n",
    "HeatMap(even_data3,radius=14).add_to(even_map)\n",
    "even_map.fit_bounds([sw,ne])\n",
    "even_map"
   ]
  },
  {
   "cell_type": "code",
   "execution_count": null,
   "id": "4d24928e-8689-47b8-8c1f-4a3145faed1a",
   "metadata": {},
   "outputs": [],
   "source": [
    "# Now we will study the distibution of deceleration through period of the day\n",
    "subdata4 = data[['Time','Deceleration']]\n",
    "subdata4 = subdata4.groupby('Time').count()\n",
    "subdata4.info"
   ]
  },
  {
   "cell_type": "code",
   "execution_count": null,
   "id": "9066494b-d71a-416f-af0c-f0fa24f91c6d",
   "metadata": {},
   "outputs": [],
   "source": [
    "ax = subdata4.plot.bar(y='Deceleration',figsize=(10, 6))\n",
    "#ax.xaxis.set_major_locator(mdates.HourLocator(interval=1))\n",
    "#ax.xaxis.set_major_formatter(mdates.DateFormatter('%H:%M'))\n",
    "#plt.xticks(rotation=45, ha='right')\n",
    "ax.set_xticks([])\n",
    "plt.title('Deceleration distribution through time of the day')\n",
    "ax.grid(True)\n",
    "ax.set_ylabel('Number of deceleration')"
   ]
  },
  {
   "cell_type": "code",
   "execution_count": null,
   "id": "c590d6f1-23e3-42f0-8f19-c5850212dfac",
   "metadata": {},
   "outputs": [],
   "source": [
    "# Now we will study the distibution of types through period of the day\n",
    "subdata5 = data[['Day Period','Deceleration Category','Deceleration']]\n",
    "subdata5 = subdata5.groupby(['Day Period','Deceleration Category'],observed=True).count()\n",
    "subdata5 = subdata5.unstack(level=1)\n",
    "subdata5"
   ]
  },
  {
   "cell_type": "code",
   "execution_count": null,
   "id": "50015e07-303f-4cb6-be83-c8c56d49f47c",
   "metadata": {},
   "outputs": [],
   "source": [
    "subdata5.plot(kind='bar',figsize=(12,6))\n",
    "plt.suptitle('Deceleration distribution by period of the day')"
   ]
  },
  {
   "cell_type": "code",
   "execution_count": null,
   "id": "3cea34a2-d2e9-47c8-9dc4-ba694e4d0f1d",
   "metadata": {},
   "outputs": [],
   "source": []
  }
 ],
 "metadata": {
  "kernelspec": {
   "display_name": "Python 3 (ipykernel)",
   "language": "python",
   "name": "python3"
  },
  "language_info": {
   "codemirror_mode": {
    "name": "ipython",
    "version": 3
   },
   "file_extension": ".py",
   "mimetype": "text/x-python",
   "name": "python",
   "nbconvert_exporter": "python",
   "pygments_lexer": "ipython3",
   "version": "3.13.5"
  }
 },
 "nbformat": 4,
 "nbformat_minor": 5
}
